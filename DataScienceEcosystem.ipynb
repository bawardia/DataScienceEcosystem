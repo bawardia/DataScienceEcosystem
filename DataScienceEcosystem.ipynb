{
 "cells": [
  {
   "cell_type": "markdown",
   "id": "88f68048-de96-4bde-9588-033af21cbd79",
   "metadata": {},
   "source": [
    "# Data Science Tools and Ecosystem"
   ]
  },
  {
   "cell_type": "markdown",
   "id": "8bd838cb-0d0f-40cd-ba2b-b118e572e7fa",
   "metadata": {},
   "source": [
    "## Introduction\n",
    "\n",
    "In this notebook, Data Science Tools and Ecosystem are summarized."
   ]
  },
  {
   "cell_type": "markdown",
   "id": "c2dceb65-0f89-4d1d-b43d-e13e410ad328",
   "metadata": {},
   "source": [
    "## Objectives:\n",
    "\n",
    "- **Data Science Languages**\n",
    "- **Commonly Used Libraries**\n",
    "- **Tools of Data Science**"
   ]
  },
  {
   "cell_type": "markdown",
   "id": "e8f3440d-5220-4d1a-a78b-9051e177a4ac",
   "metadata": {},
   "source": [
    "## Overview\n",
    "\n",
    "Some of the popular languages that Data Scientists use are:\n",
    "\n",
    "1. Python\n",
    "2. R\n",
    "3. Julia"
   ]
  },
  {
   "cell_type": "markdown",
   "id": "5d946514-8274-45b3-bf51-7295aa5b2d37",
   "metadata": {},
   "source": [
    "Some of the commonly used libraries used by Data Scientists include:\n",
    "\n",
    "1. NumPy\n",
    "2. Pandas\n",
    "3. Matplotlib"
   ]
  },
  {
   "cell_type": "markdown",
   "id": "70ef1d5d-df71-48d1-a52a-95c82721c65b",
   "metadata": {
    "tags": []
   },
   "source": [
    "| Data Science Tools      |\n",
    "|-------------------------|\n",
    "| Jupyter Notebooks       |\n",
    "| RStudio                 |\n",
    "| MySQL |"
   ]
  },
  {
   "cell_type": "markdown",
   "id": "edbfd10f-e012-464a-87c1-f2bd04793aab",
   "metadata": {},
   "source": [
    "### Below are a few examples of evaluating arithmetic expressions in Python."
   ]
  },
  {
   "cell_type": "code",
   "execution_count": 3,
   "id": "b2439a8a-7b95-4d9d-9918-ba96e982028c",
   "metadata": {
    "tags": []
   },
   "outputs": [
    {
     "name": "stdout",
     "output_type": "stream",
     "text": [
      "This a simple arithmetic expression to mutiply then add integers.\n",
      "Result: 17\n"
     ]
    }
   ],
   "source": [
    "y=\"This a simple arithmetic expression to mutiply then add integers.\"\n",
    "print(y)\n",
    "result=(3*4)+5\n",
    "print(\"Result:\", result)"
   ]
  },
  {
   "cell_type": "code",
   "execution_count": 4,
   "id": "bb63bb94-0822-44e4-89a6-2cf43d3aa147",
   "metadata": {
    "tags": []
   },
   "outputs": [
    {
     "name": "stdout",
     "output_type": "stream",
     "text": [
      "This will convert 200 minutes to hours by diving by 60.\n",
      "Result: 3.3333333333333335\n"
     ]
    }
   ],
   "source": [
    "y=\"This will convert 200 minutes to hours by diving by 60.\"\n",
    "print(y)\n",
    "minutes = 200\n",
    "hours = minutes / 60\n",
    "print(\"Result:\", hours)"
   ]
  },
  {
   "cell_type": "markdown",
   "id": "2024b1e7-90b4-4ce8-9d73-f532e92c3673",
   "metadata": {},
   "source": [
    "## Author\n",
    "\n",
    "Ibrahim"
   ]
  },
  {
   "cell_type": "code",
   "execution_count": null,
   "id": "4f60a803-1678-4fb5-8f49-bfa89f54cebd",
   "metadata": {},
   "outputs": [],
   "source": []
  }
 ],
 "metadata": {
  "kernelspec": {
   "display_name": "Python",
   "language": "python",
   "name": "conda-env-python-py"
  },
  "language_info": {
   "codemirror_mode": {
    "name": "ipython",
    "version": 3
   },
   "file_extension": ".py",
   "mimetype": "text/x-python",
   "name": "python",
   "nbconvert_exporter": "python",
   "pygments_lexer": "ipython3",
   "version": "3.7.12"
  }
 },
 "nbformat": 4,
 "nbformat_minor": 5
}
